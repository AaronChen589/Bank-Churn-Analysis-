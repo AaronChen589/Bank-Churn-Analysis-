{
 "cells": [
  {
   "cell_type": "markdown",
   "metadata": {},
   "source": [
    "# Importing the libraries and Datasets"
   ]
  },
  {
   "cell_type": "code",
   "execution_count": 3,
   "metadata": {},
   "outputs": [],
   "source": [
    "import pandas as pd\n",
    "import seaborn as sn\n",
    "import tensorflow as tf\n",
    "from tensorflow import keras\n",
    "from sklearn.model_selection import train_test_split\n",
    "from sklearn.metrics import confusion_matrix, classification_report\n",
    "import matplotlib.pyplot as plt"
   ]
  },
  {
   "cell_type": "code",
   "execution_count": 4,
   "metadata": {},
   "outputs": [],
   "source": [
    "# Import the train and test datasets\n",
    "train_df = pd.read_csv('Train_Bank_Churn_Dataset.csv')\n",
    "test_df = pd.read_csv('Test_Bank_Churn_Dataset.csv')"
   ]
  },
  {
   "cell_type": "code",
   "execution_count": 5,
   "metadata": {},
   "outputs": [],
   "source": [
    "# Split them\n",
    "X_train = train_df.drop('Exited', axis='columns')\n",
    "X_test = test_df.drop('Exited', axis='columns')\n",
    "y_train = train_df['Exited']\n",
    "y_test = test_df['Exited']\n"
   ]
  },
  {
   "cell_type": "markdown",
   "metadata": {},
   "source": [
    "### Initial Benchmark with ANN"
   ]
  },
  {
   "cell_type": "code",
   "execution_count": 6,
   "metadata": {},
   "outputs": [
    {
     "name": "stdout",
     "output_type": "stream",
     "text": [
      "WARNING:tensorflow:From c:\\Users\\maxch\\AppData\\Local\\Programs\\Python\\Python311\\Lib\\site-packages\\keras\\src\\backend.py:873: The name tf.get_default_graph is deprecated. Please use tf.compat.v1.get_default_graph instead.\n",
      "\n"
     ]
    }
   ],
   "source": [
    "model = keras.Sequential([keras.layers.Dense(25, input_shape=(12,), activation='relu'), # start with 12 input layers for 12 columns and 20 hidden layers\n",
    "                          keras.layers.Dense(20, activation='relu'),\n",
    "                          keras.layers.Dense(15, activation='relu'), # Additional hidden layer\n",
    "                          keras.layers.Dense(1, activation='sigmoid') # output layer\n",
    "                          ])"
   ]
  },
  {
   "cell_type": "code",
   "execution_count": 7,
   "metadata": {},
   "outputs": [
    {
     "name": "stdout",
     "output_type": "stream",
     "text": [
      "WARNING:tensorflow:From c:\\Users\\maxch\\AppData\\Local\\Programs\\Python\\Python311\\Lib\\site-packages\\keras\\src\\optimizers\\__init__.py:309: The name tf.train.Optimizer is deprecated. Please use tf.compat.v1.train.Optimizer instead.\n",
      "\n",
      "Epoch 1/50\n",
      "WARNING:tensorflow:From c:\\Users\\maxch\\AppData\\Local\\Programs\\Python\\Python311\\Lib\\site-packages\\keras\\src\\utils\\tf_utils.py:492: The name tf.ragged.RaggedTensorValue is deprecated. Please use tf.compat.v1.ragged.RaggedTensorValue instead.\n",
      "\n",
      "WARNING:tensorflow:From c:\\Users\\maxch\\AppData\\Local\\Programs\\Python\\Python311\\Lib\\site-packages\\keras\\src\\engine\\base_layer_utils.py:384: The name tf.executing_eagerly_outside_functions is deprecated. Please use tf.compat.v1.executing_eagerly_outside_functions instead.\n",
      "\n",
      "250/250 [==============================] - 1s 1ms/step - loss: 0.4645 - accuracy: 0.8018\n",
      "Epoch 2/50\n",
      "250/250 [==============================] - 0s 1ms/step - loss: 0.3856 - accuracy: 0.8307\n",
      "Epoch 3/50\n",
      "250/250 [==============================] - 0s 1ms/step - loss: 0.3620 - accuracy: 0.8451\n",
      "Epoch 4/50\n",
      "250/250 [==============================] - 0s 1ms/step - loss: 0.3521 - accuracy: 0.8553\n",
      "Epoch 5/50\n",
      "250/250 [==============================] - 0s 1ms/step - loss: 0.3460 - accuracy: 0.8569\n",
      "Epoch 6/50\n",
      "250/250 [==============================] - 0s 1ms/step - loss: 0.3411 - accuracy: 0.8609\n",
      "Epoch 7/50\n",
      "250/250 [==============================] - 0s 1ms/step - loss: 0.3378 - accuracy: 0.8616\n",
      "Epoch 8/50\n",
      "250/250 [==============================] - 0s 1ms/step - loss: 0.3346 - accuracy: 0.8618\n",
      "Epoch 9/50\n",
      "250/250 [==============================] - 0s 1ms/step - loss: 0.3327 - accuracy: 0.8621\n",
      "Epoch 10/50\n",
      "250/250 [==============================] - 0s 1ms/step - loss: 0.3307 - accuracy: 0.8648\n",
      "Epoch 11/50\n",
      "250/250 [==============================] - 0s 1ms/step - loss: 0.3284 - accuracy: 0.8630\n",
      "Epoch 12/50\n",
      "250/250 [==============================] - 0s 1ms/step - loss: 0.3256 - accuracy: 0.8656\n",
      "Epoch 13/50\n",
      "250/250 [==============================] - 0s 1ms/step - loss: 0.3259 - accuracy: 0.8665\n",
      "Epoch 14/50\n",
      "250/250 [==============================] - 0s 1ms/step - loss: 0.3237 - accuracy: 0.8664\n",
      "Epoch 15/50\n",
      "250/250 [==============================] - 0s 1ms/step - loss: 0.3225 - accuracy: 0.8652\n",
      "Epoch 16/50\n",
      "250/250 [==============================] - 0s 1ms/step - loss: 0.3215 - accuracy: 0.8677\n",
      "Epoch 17/50\n",
      "250/250 [==============================] - 0s 1ms/step - loss: 0.3204 - accuracy: 0.8673\n",
      "Epoch 18/50\n",
      "250/250 [==============================] - 0s 1ms/step - loss: 0.3199 - accuracy: 0.8676\n",
      "Epoch 19/50\n",
      "250/250 [==============================] - 0s 1ms/step - loss: 0.3194 - accuracy: 0.8679\n",
      "Epoch 20/50\n",
      "250/250 [==============================] - 0s 1ms/step - loss: 0.3187 - accuracy: 0.8700\n",
      "Epoch 21/50\n",
      "250/250 [==============================] - 0s 1ms/step - loss: 0.3167 - accuracy: 0.8689\n",
      "Epoch 22/50\n",
      "250/250 [==============================] - 0s 1ms/step - loss: 0.3169 - accuracy: 0.8684\n",
      "Epoch 23/50\n",
      "250/250 [==============================] - 0s 1ms/step - loss: 0.3150 - accuracy: 0.8705\n",
      "Epoch 24/50\n",
      "250/250 [==============================] - 0s 1ms/step - loss: 0.3146 - accuracy: 0.8705\n",
      "Epoch 25/50\n",
      "250/250 [==============================] - 0s 1ms/step - loss: 0.3135 - accuracy: 0.8691\n",
      "Epoch 26/50\n",
      "250/250 [==============================] - 0s 1ms/step - loss: 0.3131 - accuracy: 0.8698\n",
      "Epoch 27/50\n",
      "250/250 [==============================] - 0s 1ms/step - loss: 0.3129 - accuracy: 0.8686\n",
      "Epoch 28/50\n",
      "250/250 [==============================] - 0s 1ms/step - loss: 0.3114 - accuracy: 0.8705\n",
      "Epoch 29/50\n",
      "250/250 [==============================] - 0s 1ms/step - loss: 0.3105 - accuracy: 0.8704\n",
      "Epoch 30/50\n",
      "250/250 [==============================] - 0s 1ms/step - loss: 0.3102 - accuracy: 0.8723\n",
      "Epoch 31/50\n",
      "250/250 [==============================] - 0s 1ms/step - loss: 0.3098 - accuracy: 0.8720\n",
      "Epoch 32/50\n",
      "250/250 [==============================] - 0s 1ms/step - loss: 0.3098 - accuracy: 0.8699\n",
      "Epoch 33/50\n",
      "250/250 [==============================] - 0s 1ms/step - loss: 0.3085 - accuracy: 0.8717\n",
      "Epoch 34/50\n",
      "250/250 [==============================] - 0s 1ms/step - loss: 0.3077 - accuracy: 0.8733\n",
      "Epoch 35/50\n",
      "250/250 [==============================] - 0s 1ms/step - loss: 0.3078 - accuracy: 0.8729\n",
      "Epoch 36/50\n",
      "250/250 [==============================] - 0s 1ms/step - loss: 0.3066 - accuracy: 0.8717\n",
      "Epoch 37/50\n",
      "250/250 [==============================] - 0s 1ms/step - loss: 0.3060 - accuracy: 0.8734\n",
      "Epoch 38/50\n",
      "250/250 [==============================] - 0s 1ms/step - loss: 0.3049 - accuracy: 0.8724\n",
      "Epoch 39/50\n",
      "250/250 [==============================] - 0s 1ms/step - loss: 0.3046 - accuracy: 0.8731\n",
      "Epoch 40/50\n",
      "250/250 [==============================] - 0s 1ms/step - loss: 0.3050 - accuracy: 0.8736\n",
      "Epoch 41/50\n",
      "250/250 [==============================] - 0s 1ms/step - loss: 0.3035 - accuracy: 0.8744\n",
      "Epoch 42/50\n",
      "250/250 [==============================] - 0s 1ms/step - loss: 0.3031 - accuracy: 0.8746\n",
      "Epoch 43/50\n",
      "250/250 [==============================] - 0s 1ms/step - loss: 0.3025 - accuracy: 0.8737\n",
      "Epoch 44/50\n",
      "250/250 [==============================] - 0s 1ms/step - loss: 0.3027 - accuracy: 0.8742\n",
      "Epoch 45/50\n",
      "250/250 [==============================] - 0s 1ms/step - loss: 0.3017 - accuracy: 0.8764\n",
      "Epoch 46/50\n",
      "250/250 [==============================] - 0s 1ms/step - loss: 0.3010 - accuracy: 0.8755\n",
      "Epoch 47/50\n",
      "250/250 [==============================] - 0s 1ms/step - loss: 0.3009 - accuracy: 0.8766\n",
      "Epoch 48/50\n",
      "250/250 [==============================] - 0s 1ms/step - loss: 0.3006 - accuracy: 0.8751\n",
      "Epoch 49/50\n",
      "250/250 [==============================] - 0s 1ms/step - loss: 0.2989 - accuracy: 0.8755\n",
      "Epoch 50/50\n",
      "250/250 [==============================] - 0s 1ms/step - loss: 0.2980 - accuracy: 0.8771\n"
     ]
    },
    {
     "data": {
      "text/plain": [
       "<keras.src.callbacks.History at 0x2586485ed50>"
      ]
     },
     "execution_count": 7,
     "metadata": {},
     "output_type": "execute_result"
    }
   ],
   "source": [
    "model.compile(optimizer='adam',\n",
    "              loss = 'binary_crossentropy',\n",
    "              metrics=['accuracy'])\n",
    "\n",
    "model.fit(X_train, y_train, epochs=50)"
   ]
  },
  {
   "cell_type": "code",
   "execution_count": 8,
   "metadata": {},
   "outputs": [
    {
     "name": "stdout",
     "output_type": "stream",
     "text": [
      "63/63 [==============================] - 0s 1ms/step - loss: 0.3587 - accuracy: 0.8555\n"
     ]
    },
    {
     "data": {
      "text/plain": [
       "[0.3586728572845459, 0.8554999828338623]"
      ]
     },
     "execution_count": 8,
     "metadata": {},
     "output_type": "execute_result"
    }
   ],
   "source": [
    "model.evaluate(X_test,y_test)"
   ]
  },
  {
   "cell_type": "code",
   "execution_count": 9,
   "metadata": {},
   "outputs": [
    {
     "name": "stdout",
     "output_type": "stream",
     "text": [
      "63/63 [==============================] - 0s 904us/step\n"
     ]
    }
   ],
   "source": [
    "y_pre = model.predict(X_test)"
   ]
  },
  {
   "cell_type": "code",
   "execution_count": 10,
   "metadata": {},
   "outputs": [],
   "source": [
    "y_pred = []\n",
    "for element in y_pre:\n",
    "    if element > 0.5:\n",
    "        y_pred.append(1)\n",
    "    else:\n",
    "        y_pred.append(0)"
   ]
  },
  {
   "cell_type": "code",
   "execution_count": 11,
   "metadata": {},
   "outputs": [
    {
     "name": "stdout",
     "output_type": "stream",
     "text": [
      "              precision    recall  f1-score   support\n",
      "\n",
      "           0       0.89      0.94      0.91      1578\n",
      "           1       0.70      0.55      0.62       422\n",
      "\n",
      "    accuracy                           0.86      2000\n",
      "   macro avg       0.79      0.74      0.76      2000\n",
      "weighted avg       0.85      0.86      0.85      2000\n",
      "\n"
     ]
    }
   ],
   "source": [
    "print(classification_report(y_test, y_pred)) "
   ]
  },
  {
   "cell_type": "code",
   "execution_count": 14,
   "metadata": {},
   "outputs": [
    {
     "data": {
      "text/plain": [
       "Text(50.722222222222214, 0.5, 'Truth')"
      ]
     },
     "execution_count": 14,
     "metadata": {},
     "output_type": "execute_result"
    },
    {
     "data": {
      "image/png": "[encoded data removed]",
      "text/plain": [
       "<Figure size 640x480 with 2 Axes>"
      ]
     },
     "metadata": {},
     "output_type": "display_data"
    }
   ],
   "source": [
    "cm = tf.math.confusion_matrix(labels=y_test, predictions=y_pred)\n",
    "sn.heatmap(cm,annot=True, fmt='d')\n",
    "plt.xlabel('Predicted')\n",
    "plt.ylabel('Truth')"
   ]
  },
  {
   "cell_type": "markdown",
   "metadata": {},
   "source": [
    "# Summary\n",
    "\n",
    "While the accuracy, precision and recall for when the customers are actually staying with bank are high with 0.86. 0.89, and 0.94 respectively, the model falls short in correctly predicting when the customers are churning with precision, recall and f1-score of 0.70, 0.55, and 0.62.\n",
    "\n",
    "More layers and hypertuning can be done to make the model's predictions more accurate."
   ]
  }
 ],
 "metadata": {
  "kernelspec": {
   "display_name": "Python 3",
   "language": "python",
   "name": "python3"
  },
  "language_info": {
   "codemirror_mode": {
    "name": "ipython",
    "version": 3
   },
   "file_extension": ".py",
   "mimetype": "text/x-python",
   "name": "python",
   "nbconvert_exporter": "python",
   "pygments_lexer": "ipython3",
   "version": "3.11.1"
  }
 },
 "nbformat": 4,
 "nbformat_minor": 2
}
