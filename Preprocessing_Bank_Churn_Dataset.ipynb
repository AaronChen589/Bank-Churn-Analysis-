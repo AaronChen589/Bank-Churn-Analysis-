{
 "cells": [
  {
   "cell_type": "markdown",
   "metadata": {},
   "source": [
    "### Importing and Loading the Dataset"
   ]
  },
  {
   "cell_type": "code",
   "execution_count": 77,
   "metadata": {},
   "outputs": [],
   "source": [
    "from pyspark.sql import SparkSession\n",
    "import matplotlib.pyplot as plt\n",
    "from sklearn.preprocessing import OneHotEncoder\n",
    "import pandas as pd\n",
    "from pyspark.sql.functions import when\n",
    "from sklearn.preprocessing import StandardScaler\n",
    "from sklearn.model_selection import train_test_split\n",
    "%matplotlib inline "
   ]
  },
  {
   "cell_type": "code",
   "execution_count": 78,
   "metadata": {},
   "outputs": [],
   "source": [
    "spark=SparkSession.builder.appName('Bank_Churn_Dataset').getOrCreate()"
   ]
  },
  {
   "cell_type": "code",
   "execution_count": 79,
   "metadata": {},
   "outputs": [],
   "source": [
    "# Read the csv file into pyspark\n",
    "df_pyspark = spark.read.option('header','true').csv('Churn_Modelling.csv', inferSchema=True) "
   ]
  },
  {
   "cell_type": "markdown",
   "metadata": {},
   "source": [
    "### Exploring the Data"
   ]
  },
  {
   "cell_type": "code",
   "execution_count": 80,
   "metadata": {},
   "outputs": [
    {
     "name": "stdout",
     "output_type": "stream",
     "text": [
      "+---------+----------+---------+-----------+---------+------+---+------+---------+-------------+---------+--------------+---------------+------+\n",
      "|RowNumber|CustomerId|  Surname|CreditScore|Geography|Gender|Age|Tenure|  Balance|NumOfProducts|HasCrCard|IsActiveMember|EstimatedSalary|Exited|\n",
      "+---------+----------+---------+-----------+---------+------+---+------+---------+-------------+---------+--------------+---------------+------+\n",
      "|        1|  15634602| Hargrave|        619|   France|Female| 42|     2|      0.0|            1|        1|             1|      101348.88|     1|\n",
      "|        2|  15647311|     Hill|        608|    Spain|Female| 41|     1| 83807.86|            1|        0|             1|      112542.58|     0|\n",
      "|        3|  15619304|     Onio|        502|   France|Female| 42|     8| 159660.8|            3|        1|             0|      113931.57|     1|\n",
      "|        4|  15701354|     Boni|        699|   France|Female| 39|     1|      0.0|            2|        0|             0|       93826.63|     0|\n",
      "|        5|  15737888| Mitchell|        850|    Spain|Female| 43|     2|125510.82|            1|        1|             1|        79084.1|     0|\n",
      "|        6|  15574012|      Chu|        645|    Spain|  Male| 44|     8|113755.78|            2|        1|             0|      149756.71|     1|\n",
      "|        7|  15592531| Bartlett|        822|   France|  Male| 50|     7|      0.0|            2|        1|             1|        10062.8|     0|\n",
      "|        8|  15656148|   Obinna|        376|  Germany|Female| 29|     4|115046.74|            4|        1|             0|      119346.88|     1|\n",
      "|        9|  15792365|       He|        501|   France|  Male| 44|     4|142051.07|            2|        0|             1|        74940.5|     0|\n",
      "|       10|  15592389|       H?|        684|   France|  Male| 27|     2|134603.88|            1|        1|             1|       71725.73|     0|\n",
      "|       11|  15767821|   Bearce|        528|   France|  Male| 31|     6|102016.72|            2|        0|             0|       80181.12|     0|\n",
      "|       12|  15737173|  Andrews|        497|    Spain|  Male| 24|     3|      0.0|            2|        1|             0|       76390.01|     0|\n",
      "|       13|  15632264|      Kay|        476|   France|Female| 34|    10|      0.0|            2|        1|             0|       26260.98|     0|\n",
      "|       14|  15691483|     Chin|        549|   France|Female| 25|     5|      0.0|            2|        0|             0|      190857.79|     0|\n",
      "|       15|  15600882|    Scott|        635|    Spain|Female| 35|     7|      0.0|            2|        1|             1|       65951.65|     0|\n",
      "|       16|  15643966|  Goforth|        616|  Germany|  Male| 45|     3|143129.41|            2|        0|             1|       64327.26|     0|\n",
      "|       17|  15737452|    Romeo|        653|  Germany|  Male| 58|     1|132602.88|            1|        1|             0|        5097.67|     1|\n",
      "|       18|  15788218|Henderson|        549|    Spain|Female| 24|     9|      0.0|            2|        1|             1|       14406.41|     0|\n",
      "|       19|  15661507|  Muldrow|        587|    Spain|  Male| 45|     6|      0.0|            1|        0|             0|      158684.81|     0|\n",
      "|       20|  15568982|      Hao|        726|   France|Female| 24|     6|      0.0|            2|        1|             1|       54724.03|     0|\n",
      "+---------+----------+---------+-----------+---------+------+---+------+---------+-------------+---------+--------------+---------------+------+\n",
      "only showing top 20 rows\n",
      "\n"
     ]
    }
   ],
   "source": [
    "df_pyspark.show()"
   ]
  },
  {
   "cell_type": "code",
   "execution_count": 81,
   "metadata": {},
   "outputs": [],
   "source": [
    "# Drop Irrelevant Columnns: Rownumber, CustomerId, Surname\n",
    "df_pyspark = df_pyspark.drop('RowNumber','CustomerId','Surname')"
   ]
  },
  {
   "cell_type": "code",
   "execution_count": 82,
   "metadata": {},
   "outputs": [
    {
     "name": "stdout",
     "output_type": "stream",
     "text": [
      "root\n",
      " |-- CreditScore: integer (nullable = true)\n",
      " |-- Geography: string (nullable = true)\n",
      " |-- Gender: string (nullable = true)\n",
      " |-- Age: integer (nullable = true)\n",
      " |-- Tenure: integer (nullable = true)\n",
      " |-- Balance: double (nullable = true)\n",
      " |-- NumOfProducts: integer (nullable = true)\n",
      " |-- HasCrCard: integer (nullable = true)\n",
      " |-- IsActiveMember: integer (nullable = true)\n",
      " |-- EstimatedSalary: double (nullable = true)\n",
      " |-- Exited: integer (nullable = true)\n",
      "\n"
     ]
    }
   ],
   "source": [
    "# Check the schema datatypes: All columns have their proper datatypes\n",
    "df_pyspark.printSchema()"
   ]
  },
  {
   "cell_type": "code",
   "execution_count": 83,
   "metadata": {},
   "outputs": [
    {
     "name": "stdout",
     "output_type": "stream",
     "text": [
      "+-------+-----------------+---------+------+------------------+------------------+-----------------+------------------+-------------------+-------------------+-----------------+-------------------+\n",
      "|summary|      CreditScore|Geography|Gender|               Age|            Tenure|          Balance|     NumOfProducts|          HasCrCard|     IsActiveMember|  EstimatedSalary|             Exited|\n",
      "+-------+-----------------+---------+------+------------------+------------------+-----------------+------------------+-------------------+-------------------+-----------------+-------------------+\n",
      "|  count|            10000|    10000| 10000|             10000|             10000|            10000|             10000|              10000|              10000|            10000|              10000|\n",
      "|   mean|         650.5288|     NULL|  NULL|           38.9218|            5.0128|76485.88928799961|            1.5302|             0.7055|             0.5151|100090.2398809998|             0.2037|\n",
      "| stddev|96.65329873613035|     NULL|  NULL|10.487806451704587|2.8921743770496837|62397.40520238599|0.5816543579989917|0.45584046447513327|0.49979692845891815|57510.49281769821|0.40276858399486065|\n",
      "|    min|              350|   France|Female|                18|                 0|              0.0|                 1|                  0|                  0|            11.58|                  0|\n",
      "|    max|              850|    Spain|  Male|                92|                10|        250898.09|                 4|                  1|                  1|        199992.48|                  1|\n",
      "+-------+-----------------+---------+------+------------------+------------------+-----------------+------------------+-------------------+-------------------+-----------------+-------------------+\n",
      "\n"
     ]
    }
   ],
   "source": [
    "# Summary of the dataframe\n",
    "df_pyspark.describe().show()"
   ]
  },
  {
   "cell_type": "code",
   "execution_count": 84,
   "metadata": {},
   "outputs": [
    {
     "name": "stdout",
     "output_type": "stream",
     "text": [
      "+-------+-----------------+---------+------+------------------+------------------+-----------------+------------------+-------------------+-------------------+-----------------+-------------------+\n",
      "|summary|      CreditScore|Geography|Gender|               Age|            Tenure|          Balance|     NumOfProducts|          HasCrCard|     IsActiveMember|  EstimatedSalary|             Exited|\n",
      "+-------+-----------------+---------+------+------------------+------------------+-----------------+------------------+-------------------+-------------------+-----------------+-------------------+\n",
      "|  count|            10000|    10000| 10000|             10000|             10000|            10000|             10000|              10000|              10000|            10000|              10000|\n",
      "|   mean|         650.5288|     NULL|  NULL|           38.9218|            5.0128|76485.88928799961|            1.5302|             0.7055|             0.5151|100090.2398809998|             0.2037|\n",
      "| stddev|96.65329873613035|     NULL|  NULL|10.487806451704587|2.8921743770496837|62397.40520238599|0.5816543579989917|0.45584046447513327|0.49979692845891815|57510.49281769821|0.40276858399486065|\n",
      "|    min|              350|   France|Female|                18|                 0|              0.0|                 1|                  0|                  0|            11.58|                  0|\n",
      "|    max|              850|    Spain|  Male|                92|                10|        250898.09|                 4|                  1|                  1|        199992.48|                  1|\n",
      "+-------+-----------------+---------+------+------------------+------------------+-----------------+------------------+-------------------+-------------------+-----------------+-------------------+\n",
      "\n"
     ]
    }
   ],
   "source": [
    "# Dataset doesn't have Null values since the count remains the same\n",
    "df_pyspark.na.drop(how='any').describe().show()"
   ]
  },
  {
   "cell_type": "code",
   "execution_count": 85,
   "metadata": {},
   "outputs": [
    {
     "data": {
      "text/plain": [
       "[Row(Tenure=1),\n",
       " Row(Tenure=6),\n",
       " Row(Tenure=3),\n",
       " Row(Tenure=5),\n",
       " Row(Tenure=9),\n",
       " Row(Tenure=4),\n",
       " Row(Tenure=8),\n",
       " Row(Tenure=7),\n",
       " Row(Tenure=10),\n",
       " Row(Tenure=2),\n",
       " Row(Tenure=0)]"
      ]
     },
     "execution_count": 85,
     "metadata": {},
     "output_type": "execute_result"
    }
   ],
   "source": [
    "# check all unique values of tenure\n",
    "[i for i in df_pyspark.select('Tenure').distinct().collect()] "
   ]
  },
  {
   "cell_type": "code",
   "execution_count": 86,
   "metadata": {},
   "outputs": [
    {
     "data": {
      "text/plain": [
       "[Row(Geography='Germany'), Row(Geography='France'), Row(Geography='Spain')]"
      ]
     },
     "execution_count": 86,
     "metadata": {},
     "output_type": "execute_result"
    }
   ],
   "source": [
    "# check all unique values of geography\n",
    "[i for i in df_pyspark.select('Geography').distinct().collect()] "
   ]
  },
  {
   "cell_type": "code",
   "execution_count": 87,
   "metadata": {},
   "outputs": [
    {
     "name": "stdout",
     "output_type": "stream",
     "text": [
      "+------+--------------+-----------------+\n",
      "|Exited|customer_count|       churn_rate|\n",
      "+------+--------------+-----------------+\n",
      "|     1|          2037|20.37000000000000|\n",
      "|     0|          7963|79.63000000000000|\n",
      "+------+--------------+-----------------+\n",
      "\n"
     ]
    }
   ],
   "source": [
    "df_pyspark.createOrReplaceTempView(\"churn_table\")\n",
    "# 20 percent of the customers have left\n",
    "query = \"\"\"\n",
    "    SELECT\n",
    "        Exited,\n",
    "        COUNT(*) AS customer_count,\n",
    "        COUNT(*) * 100.0 / SUM(COUNT(*)) OVER() AS churn_rate\n",
    "    FROM\n",
    "        churn_table\n",
    "    GROUP BY Exited;\n",
    "        \"\"\"\n",
    "spark.sql(query).show()"
   ]
  },
  {
   "cell_type": "code",
   "execution_count": 88,
   "metadata": {},
   "outputs": [
    {
     "name": "stdout",
     "output_type": "stream",
     "text": [
      "+-------------------+------+---------+----------------+\n",
      "|credit_score_bucket|Exited|frequency|churn_percentage|\n",
      "+-------------------+------+---------+----------------+\n",
      "|                400|     0|      124|           67.03|\n",
      "|                400|     1|       61|           32.97|\n",
      "|                500|     0|     1105|           78.65|\n",
      "|                500|     1|      300|           21.35|\n",
      "|                600|     0|     2622|           79.21|\n",
      "|                600|     1|      688|           20.79|\n",
      "|                700|     0|     2810|           80.82|\n",
      "|                700|     1|      667|           19.18|\n",
      "|                800|     0|     1112|           80.00|\n",
      "|                800|     1|      278|           20.00|\n",
      "|                900|     0|      190|           81.55|\n",
      "|                900|     1|       43|           18.45|\n",
      "+-------------------+------+---------+----------------+\n",
      "\n"
     ]
    }
   ],
   "source": [
    "# Majority of customers are within 500-800 credit score range\n",
    "# Additionally, majority of the leavers are within the 600-700 credit score range, but the higest churn rate is seen in 400 credit score level\n",
    "query = \"\"\"\n",
    "    SELECT\n",
    "        ROUND(CreditScore, -2) AS credit_score_bucket,\n",
    "         Exited,\n",
    "        COUNT(*) AS frequency,\n",
    "        ROUND((COUNT(*) * 100.0) / SUM(COUNT(*)) OVER(PARTITION BY ROUND(CreditScore, -2) ),2) AS churn_percentage\n",
    "    FROM\n",
    "        churn_table\n",
    "    GROUP BY Exited, ROUND(CreditScore, -2)\n",
    "    ORDER BY credit_score_bucket, Exited;\n",
    "        \"\"\"\n",
    "spark.sql(query).show()"
   ]
  },
  {
   "cell_type": "code",
   "execution_count": 89,
   "metadata": {},
   "outputs": [
    {
     "name": "stdout",
     "output_type": "stream",
     "text": [
      "+------+------+---------+----------------+\n",
      "|Gender|Exited|frequency|churn_percentage|\n",
      "+------+------+---------+----------------+\n",
      "|Female|     0|     3404|           74.93|\n",
      "|Female|     1|     1139|           25.07|\n",
      "|  Male|     0|     4559|           83.54|\n",
      "|  Male|     1|      898|           16.46|\n",
      "+------+------+---------+----------------+\n",
      "\n"
     ]
    }
   ],
   "source": [
    "# More female exiters than male\n",
    "query = \"\"\"\n",
    "    SELECT\n",
    "        Gender,\n",
    "        Exited,\n",
    "        COUNT(*) AS frequency,\n",
    "        ROUND((COUNT(*) * 100.0) / SUM(COUNT(*)) OVER(PARTITION BY Gender),2) AS churn_percentage\n",
    "    FROM\n",
    "        churn_table\n",
    "    GROUP BY Gender, Exited\n",
    "    ORDER BY Gender,Exited;\n",
    "        \"\"\"\n",
    "spark.sql(query).show()"
   ]
  },
  {
   "cell_type": "code",
   "execution_count": 90,
   "metadata": {},
   "outputs": [
    {
     "name": "stdout",
     "output_type": "stream",
     "text": [
      "+------+------+--------------+----------------+\n",
      "|Tenure|Exited|customer_count|churn_percentage|\n",
      "+------+------+--------------+----------------+\n",
      "|     0|     0|           318|           77.00|\n",
      "|     0|     1|            95|           23.00|\n",
      "|     1|     0|           803|           77.58|\n",
      "|     1|     1|           232|           22.42|\n",
      "|     2|     0|           847|           80.82|\n",
      "|     2|     1|           201|           19.18|\n",
      "|     3|     0|           796|           78.89|\n",
      "|     3|     1|           213|           21.11|\n",
      "|     4|     0|           786|           79.47|\n",
      "|     4|     1|           203|           20.53|\n",
      "|     5|     0|           803|           79.35|\n",
      "|     5|     1|           209|           20.65|\n",
      "|     6|     0|           771|           79.73|\n",
      "|     6|     1|           196|           20.27|\n",
      "|     7|     0|           851|           82.78|\n",
      "|     7|     1|           177|           17.22|\n",
      "|     8|     0|           828|           80.78|\n",
      "|     8|     1|           197|           19.22|\n",
      "|     9|     0|           771|           78.35|\n",
      "|     9|     1|           213|           21.65|\n",
      "|    10|     0|           389|           79.39|\n",
      "|    10|     1|           101|           20.61|\n",
      "+------+------+--------------+----------------+\n",
      "\n"
     ]
    }
   ],
   "source": [
    "# Churn rate stays roughly the same throughout the tenure\n",
    "query = \"\"\"\n",
    "   SELECT\n",
    "        Tenure,\n",
    "        Exited,\n",
    "        COUNT(*) AS customer_count,\n",
    "        ROUND((COUNT(*) * 100.0) / SUM(COUNT(*)) OVER(PARTITION BY Tenure),2) AS churn_percentage\n",
    "    FROM\n",
    "        churn_table\n",
    "    GROUP BY Tenure, Exited\n",
    "    ORDER BY Tenure, Exited;\n",
    "        \"\"\"\n",
    "spark.sql(query).show(25)"
   ]
  },
  {
   "cell_type": "code",
   "execution_count": 91,
   "metadata": {},
   "outputs": [
    {
     "data": {
      "text/plain": [
       "<matplotlib.legend.Legend at 0x1f2b99e5050>"
      ]
     },
     "execution_count": 91,
     "metadata": {},
     "output_type": "execute_result"
    },
    {
     "data": {
      "image/png": "[encoded data removed]",
      "text/plain": [
       "<Figure size 640x480 with 1 Axes>"
      ]
     },
     "metadata": {},
     "output_type": "display_data"
    }
   ],
   "source": [
    "df_True_Exited = spark.sql(query).filter((spark.sql(query)['Exited'] == 1)) # Select all customers that exited\n",
    "df_False_Exited = spark.sql(query).filter((spark.sql(query)['Exited'] == 0)) # Select all customers that didn't exit\n",
    "pandas_True_Exited = df_True_Exited.toPandas()\n",
    "pandas_False_Exited = df_False_Exited.toPandas()\n",
    "width = 0.3\n",
    "plt.bar(pandas_True_Exited[\"Tenure\"], pandas_True_Exited[\"churn_percentage\"], width, label=\"Percent of exited customers\")\n",
    "plt.bar(pandas_True_Exited[\"Tenure\"] + width, pandas_False_Exited[\"churn_percentage\"],width, label=\"Percent of who stayed\")\n",
    "plt.xlabel(\"Tenure\")\n",
    "plt.ylabel(\"Customer Count Percentage\")\n",
    "plt.title(\"Customer Tenure Distribution\")\n",
    "plt.legend()"
   ]
  },
  {
   "cell_type": "code",
   "execution_count": 92,
   "metadata": {},
   "outputs": [
    {
     "name": "stdout",
     "output_type": "stream",
     "text": [
      "+---------------+------+---------+----------------+\n",
      "|products_bought|Exited|frequency|churn_percentage|\n",
      "+---------------+------+---------+----------------+\n",
      "|              1|     0|     3675|           72.29|\n",
      "|              1|     1|     1409|           27.71|\n",
      "|              2|     0|     4242|           92.42|\n",
      "|              2|     1|      348|            7.58|\n",
      "|              3|     0|       46|           17.29|\n",
      "|              3|     1|      220|           82.71|\n",
      "|              4|     1|       60|          100.00|\n",
      "+---------------+------+---------+----------------+\n",
      "\n"
     ]
    }
   ],
   "source": [
    "query = \"\"\"\n",
    "    SELECT\n",
    "        NumOfProducts AS products_bought,\n",
    "         Exited,\n",
    "        COUNT(*) AS frequency,\n",
    "        ROUND((COUNT(*) * 100.0) / SUM(COUNT(*)) OVER(PARTITION BY NumOfProducts ),2) AS churn_percentage\n",
    "    FROM\n",
    "        churn_table\n",
    "    GROUP BY Exited, NumOfProducts\n",
    "    ORDER BY NumOfProducts, Exited;\n",
    "        \"\"\"\n",
    "spark.sql(query).show()"
   ]
  },
  {
   "cell_type": "code",
   "execution_count": 93,
   "metadata": {},
   "outputs": [
    {
     "data": {
      "text/plain": [
       "<matplotlib.legend.Legend at 0x1f2fd3c9c50>"
      ]
     },
     "execution_count": 93,
     "metadata": {},
     "output_type": "execute_result"
    },
    {
     "data": {
      "image/png": "[encoded data removed]",
      "text/plain": [
       "<Figure size 640x480 with 1 Axes>"
      ]
     },
     "metadata": {},
     "output_type": "display_data"
    }
   ],
   "source": [
    "df_True_Exited = spark.sql(query).filter((spark.sql(query)['Exited'] == 1)) # Select all customers that exited\n",
    "df_False_Exited = spark.sql(query).filter((spark.sql(query)['Exited'] == 0)) # Select all customers that didn't exit\n",
    "pandas_True_Exited = df_True_Exited.toPandas()\n",
    "pandas_False_Exited = df_False_Exited.toPandas()\n",
    "width = 0.3\n",
    "plt.bar(pandas_True_Exited[\"products_bought\"], pandas_True_Exited[\"churn_percentage\"], width, label=\"Percent of exited customers\")\n",
    "plt.bar(pandas_False_Exited[\"products_bought\"] + width, pandas_False_Exited[\"churn_percentage\"],width, label=\"Percent of who stayed\")\n",
    "plt.xlabel(\"Number of Products Bought\")\n",
    "plt.ylabel(\"Customer Count Percentage\")\n",
    "plt.title(\"Number of Products Bought Distribution\")\n",
    "plt.legend()"
   ]
  },
  {
   "cell_type": "code",
   "execution_count": 94,
   "metadata": {},
   "outputs": [],
   "source": [
    "# Label encoding the Gender column: Male = 0, Female = 1\n",
    "df_pyspark = df_pyspark.withColumn(\"Gender\", when(df_pyspark.Gender == \"Male\", 0).otherwise(1)) "
   ]
  },
  {
   "cell_type": "code",
   "execution_count": 95,
   "metadata": {},
   "outputs": [],
   "source": [
    "# One hot encode the geography categories (France, Spain, Germany)\n",
    "pandas_df = df_pyspark.toPandas() # conver the pyspark dataframe to pandas dataframe for one hot encoding\n",
    "ohe=OneHotEncoder(sparse_output=False).set_output(transform='pandas')\n",
    "ohe_encoded = ohe.fit_transform(pandas_df['Geography'].values.reshape(-1, 1))\n",
    "pandas_df = pd.concat([pandas_df, ohe_encoded], axis=1).drop(columns=['Geography'])"
   ]
  },
  {
   "cell_type": "code",
   "execution_count": 96,
   "metadata": {},
   "outputs": [],
   "source": [
    "# rename the geography columns\n",
    "pandas_df = pandas_df.rename(columns={\"x0_France\":\"France\",\"x0_Germany\":\"Germany\", \"x0_Spain\":\"Spain\" })"
   ]
  },
  {
   "cell_type": "code",
   "execution_count": 97,
   "metadata": {},
   "outputs": [],
   "source": [
    "# Split the dataset before scaling to prevent data leakage\n",
    "X = pandas_df.drop('Exited', axis='columns')\n",
    "y = pandas_df['Exited']\n",
    "X_train, X_test, y_train, y_test = train_test_split(X,y, test_size=0.2, random_state=69)"
   ]
  },
  {
   "cell_type": "code",
   "execution_count": 99,
   "metadata": {},
   "outputs": [],
   "source": [
    "# Standarize both / convet to Z scores for numerical columns (robust to outliers)\n",
    "binary_columns = [col for col in pandas_df.columns if pandas_df[col].nunique() == 2] # binary datatype columns \n",
    "non_binary_columns = [col for col in pandas_df.columns if col not in binary_columns] # Non Binary datatype columns\n",
    "\n",
    "scaler = StandardScaler() # Standarize the training part of the dataset after splitting\n",
    "X_train[non_binary_columns] = scaler.fit_transform(X_train[non_binary_columns])\n",
    "X_test[non_binary_columns] = scaler.fit_transform(X_test[non_binary_columns])"
   ]
  },
  {
   "cell_type": "code",
   "execution_count": 100,
   "metadata": {},
   "outputs": [],
   "source": [
    "# Recombine the train and test dataset  and export them as csv respectively\n",
    "Train_data=pd.concat([X_train, y_train], axis=1)\n",
    "Test_data=pd.concat([X_test, y_test], axis=1)\n",
    "\n",
    "Train_data.to_csv('Train_Bank_Churn_Dataset.csv', index=False)\n",
    "Test_data.to_csv('Test_Bank_Churn_Dataset.csv', index=False)\n"
   ]
  }
 ],
 "metadata": {
  "kernelspec": {
   "display_name": "Python 3",
   "language": "python",
   "name": "python3"
  },
  "language_info": {
   "codemirror_mode": {
    "name": "ipython",
    "version": 3
   },
   "file_extension": ".py",
   "mimetype": "text/x-python",
   "name": "python",
   "nbconvert_exporter": "python",
   "pygments_lexer": "ipython3",
   "version": "3.11.1"
  }
 },
 "nbformat": 4,
 "nbformat_minor": 2
}
